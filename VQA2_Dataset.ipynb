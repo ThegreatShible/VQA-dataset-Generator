{
  "nbformat": 4,
  "nbformat_minor": 0,
  "metadata": {
    "colab": {
      "name": "VQA2 Dataset",
      "version": "0.3.2",
      "provenance": [],
      "collapsed_sections": [],
      "toc_visible": true
    },
    "kernelspec": {
      "name": "python3",
      "display_name": "Python 3"
    }
  },
  "cells": [
    {
      "cell_type": "markdown",
      "metadata": {
        "id": "d0PODRd38MQR",
        "colab_type": "text"
      },
      "source": [
        "# Filtering questions from VQA dataset\n",
        "This notebook aims to filter questions from the VQA dataset corresponding to a specific domain. This is done by domain related keyword search on questions. The keywords are provided in a text file."
      ]
    },
    {
      "cell_type": "markdown",
      "metadata": {
        "id": "8duxm7uZ8-g1",
        "colab_type": "text"
      },
      "source": [
        "## Variables\n",
        "This section contains the variable used in this notebook, the variables must change to an environment to another so that the program can run."
      ]
    },
    {
      "cell_type": "code",
      "metadata": {
        "id": "tszZPq_P9MRP",
        "colab_type": "code",
        "colab": {}
      },
      "source": [
        "#this variable represents the path to the imported drive in the notebook, if you don't importe drive, ignore this variable \n",
        "drive_home = '/content/gdrive'\n",
        "\n",
        "#path representing directory of train questions from VQA dataset \n",
        "train_questions_dir = '/content/gdrive/My Drive/Colab'\n",
        "#path to the file containing the keywords to filter the questions\n",
        "key_words_path = '/content/gdrive/My Drive/Colab/treated_indoors.txt'\n",
        "#path_where to save the filtered tuples (questions ids , questions and images ids) of train questions\n",
        "train_save_path = '/content/gdrive/My Drive/Colab/results/VQA/train_VQA_filteredImages.txt'\n",
        "train_annotation_save_path = '/content/gdrive/My Drive/Colab/results/VQA/annotations.json'\n",
        "#train_answers_dir is the directory where to put train answers\n",
        "train_answers_dir = '/content/gdrive/My Drive/Colab'\n",
        "#path representing the place of questions from VQA dataset (copied from val_download_path and pasted on this path)\n",
        "val_questions_dir = '/content/gdrive/My Drive/Colab'\n",
        "#path_where to save the filtered tuples (questions ids , questions and images ids) of val questions\n",
        "val_save_path = '/content/gdrive/My Drive/Colab/results/VQA/val_VQA_filteredImages.txt'\n",
        "val_annotation_save_path = '/content/gdrive/My Drive/Colab/results/VQA/val_annotations.json'\n",
        "val_answers_dir =  '/content/gdrive/My Drive/Colab'\n",
        "final_val_file = '/content/gdrive/My Drive/Colab/results/VQA/final_val.csv'\n",
        "final_train_file = '/content/gdrive/My Drive/Colab/results/VQA/final_train.csv'"
      ],
      "execution_count": 0,
      "outputs": []
    },
    {
      "cell_type": "markdown",
      "metadata": {
        "id": "zOyp_F9V83cU",
        "colab_type": "text"
      },
      "source": [
        "## Imports "
      ]
    },
    {
      "cell_type": "code",
      "metadata": {
        "id": "6a7pKBYUAZ3x",
        "colab_type": "code",
        "colab": {}
      },
      "source": [
        "import os\n",
        "#remove if you don't use drive\n",
        "from google.colab import drive\n",
        "import shutil\n",
        "import json\n",
        "from itertools import groupby\n",
        "import csv"
      ],
      "execution_count": 0,
      "outputs": []
    },
    {
      "cell_type": "markdown",
      "metadata": {
        "id": "g3XHzD0iBrW_",
        "colab_type": "text"
      },
      "source": [
        "## Mount drive (remove line if you don't) and download train questions"
      ]
    },
    {
      "cell_type": "markdown",
      "metadata": {
        "id": "TS0R7w9eB19w",
        "colab_type": "text"
      },
      "source": [
        "### mount drive and import train questions"
      ]
    },
    {
      "cell_type": "code",
      "metadata": {
        "id": "glhBEspUqXye",
        "colab_type": "code",
        "colab": {}
      },
      "source": [
        "#remove if you don't use drive\n",
        "drive.mount(drive_home)\n",
        "#! wget -P '$train_questions_dir' https://s3.amazonaws.com/cvmlp/vqa/mscoco/vqa/v2_Questions_Train_mscoco.zip\n",
        "os.chdir(train_questions_dir)"
      ],
      "execution_count": 0,
      "outputs": []
    },
    {
      "cell_type": "markdown",
      "metadata": {
        "id": "RfxN6sszB9lJ",
        "colab_type": "text"
      },
      "source": [
        "### unzip questions"
      ]
    },
    {
      "cell_type": "code",
      "metadata": {
        "id": "xQNci4hcrDzc",
        "colab_type": "code",
        "colab": {}
      },
      "source": [
        "#!unzip -P '$train_questions_dir' v2_Questions_Train_mscoco.zip"
      ],
      "execution_count": 0,
      "outputs": []
    },
    {
      "cell_type": "markdown",
      "metadata": {
        "id": "l7qGrRvtCclR",
        "colab_type": "text"
      },
      "source": [
        "## Load train questions\n",
        "The questions file is a bunch of lines containing the question id, the question and the image id related to the question in the VQA dataset."
      ]
    },
    {
      "cell_type": "code",
      "metadata": {
        "id": "xnbzOO-bsqje",
        "colab_type": "code",
        "colab": {}
      },
      "source": [
        "train_questions_path = os.path.join(train_questions_dir, 'v2_OpenEnded_mscoco_train2014_questions.json')\n",
        "f = open(train_questions_path)\n",
        "q = json.load(f)\n",
        "questionsIds = [(question['question_id'], question['question'], question['image_id']) for question in q['questions']]\n",
        "f.close\n",
        "questionsIds[:10]\n"
      ],
      "execution_count": 0,
      "outputs": []
    },
    {
      "cell_type": "code",
      "metadata": {
        "id": "9LIjtXHmub_i",
        "colab_type": "code",
        "colab": {}
      },
      "source": [
        "questions = [x[1] for x in questionsIds]\n",
        "questions[:10]"
      ],
      "execution_count": 0,
      "outputs": []
    },
    {
      "cell_type": "markdown",
      "metadata": {
        "id": "Tu5WytK_Czrv",
        "colab_type": "text"
      },
      "source": [
        "## filter questions\n",
        "Filter the questions by keywords, we get from this methods only the questions containing at least on of the keywords"
      ]
    },
    {
      "cell_type": "markdown",
      "metadata": {
        "id": "rgkTpIQoEO6j",
        "colab_type": "text"
      },
      "source": [
        "### filterQuestions function to filter questions by keywords"
      ]
    },
    {
      "cell_type": "code",
      "metadata": {
        "id": "MOp7lUkFuoqK",
        "colab_type": "code",
        "colab": {}
      },
      "source": [
        "# filter questions and get the ones containing at least on keyword from key_words\n",
        "def filterQuestions(questions, key_words):\n",
        "  def contains(question, key_words):\n",
        "    if not key_words:\n",
        "      return False\n",
        "    else :\n",
        "      return (key_words[0] in question) or contains(question, key_words[1:])\n",
        "\n",
        "  return [x for x in questions if contains(x[1], key_words)]\n",
        "\n"
      ],
      "execution_count": 0,
      "outputs": []
    },
    {
      "cell_type": "markdown",
      "metadata": {
        "id": "XyHDQkUy7ssN",
        "colab_type": "text"
      },
      "source": [
        "### get images ids with questions that have at least one questions in filtered questions\n",
        "This is to catch all questions that have relation to indoor, with filterQuestions we got all questions containing keywords, that means that images filtered are indoor images (most of them) and that the other questions that don't have keywords in that images could also be indoor questions."
      ]
    },
    {
      "cell_type": "code",
      "metadata": {
        "id": "DyV22kLp7s4p",
        "colab_type": "code",
        "colab": {}
      },
      "source": [
        "def get_filtered_images(questions_ids, questions_image):\n",
        "  return [x for x in questions_image if x[0] in questions_ids]\n"
      ],
      "execution_count": 0,
      "outputs": []
    },
    {
      "cell_type": "markdown",
      "metadata": {
        "id": "8hwpR_L8EHtr",
        "colab_type": "text"
      },
      "source": [
        "### treat keywords\n",
        "Treating keywods such as making them lowercase, removing extra-space ... and the loading them\n",
        "\n",
        "\n",
        "\n"
      ]
    },
    {
      "cell_type": "code",
      "metadata": {
        "id": "o0ZHBt4cw3bx",
        "colab_type": "code",
        "colab": {}
      },
      "source": [
        "f = open(key_words_path,'r')\n",
        "key_words = f.readlines()\n",
        "f.close\n",
        "treated_key_words = [x.strip().lower() for x in key_words if x.strip() != ''] \n",
        "  \n",
        "treated_key_words"
      ],
      "execution_count": 0,
      "outputs": []
    },
    {
      "cell_type": "markdown",
      "metadata": {
        "id": "X_8uFCgJE6x4",
        "colab_type": "text"
      },
      "source": [
        "### filter questions \n",
        "The result of applying the filter to questions is a tuple containing (question_id, question, image_id) where question contains of the keywords in key_words"
      ]
    },
    {
      "cell_type": "code",
      "metadata": {
        "id": "PATNFM5h3TQa",
        "colab_type": "code",
        "colab": {}
      },
      "source": [
        "train_filtred_questions = filterQuestions(questionsIds, treated_key_words)\n",
        "t = train_filtred_questions\n",
        "(q_id, q, im) = zip(*train_filtred_questions)\n",
        "train_filtred_questions =get_filtered_images(q_id,questionsIds)\n",
        "train_filtred_questions"
      ],
      "execution_count": 0,
      "outputs": []
    },
    {
      "cell_type": "code",
      "metadata": {
        "id": "TY9XovW1HZV6",
        "colab_type": "code",
        "colab": {}
      },
      "source": [
        "ques = set([x[2] for x in train_filtred_questions])\n",
        "train_questions_path = os.path.join(train_questions_dir, 'v2_OpenEnded_mscoco_train2014_questions.json')\n",
        "with open(train_questions_path) as f :\n",
        "  q = json.load(f)\n",
        "questionsIds = [(question['question_id'], question['question'], question['image_id']) for question in q['questions'] if question['image_id'] in ques]\n",
        "len(questionsIds)"
      ],
      "execution_count": 0,
      "outputs": []
    },
    {
      "cell_type": "code",
      "metadata": {
        "id": "nITzPHyA6YI3",
        "colab_type": "code",
        "colab": {}
      },
      "source": [
        "len(list(set([x[2] for x in train_filtred_questions])))"
      ],
      "execution_count": 0,
      "outputs": []
    },
    {
      "cell_type": "markdown",
      "metadata": {
        "id": "cJDM6gEOWCA4",
        "colab_type": "text"
      },
      "source": [
        "### download annotations"
      ]
    },
    {
      "cell_type": "code",
      "metadata": {
        "id": "gwW2VGZLeHdY",
        "colab_type": "code",
        "colab": {}
      },
      "source": [
        "!wget -P '$train_answers_dir' \"https://s3.amazonaws.com/cvmlp/vqa/mscoco/vqa/v2_Annotations_Train_mscoco.zip\"\n",
        "os.chdir(train_answers_dir)\n",
        "!unzip v2_Annotations_Train_mscoco.zip"
      ],
      "execution_count": 0,
      "outputs": []
    },
    {
      "cell_type": "code",
      "metadata": {
        "id": "JA4zGw2JfL31",
        "colab_type": "code",
        "colab": {}
      },
      "source": [
        "train_answers_path = os.path.join(train_answers_dir, 'v2_mscoco_train2014_annotations.json')\n",
        "with open(train_answers_path) as f :\n",
        "  anno = json.load(f)\n"
      ],
      "execution_count": 0,
      "outputs": []
    },
    {
      "cell_type": "code",
      "metadata": {
        "id": "GjUJ1bC4kqWf",
        "colab_type": "code",
        "colab": {}
      },
      "source": [
        "'''with open(train_save_path, 'r') as f :\n",
        "  lines= [x.strip() for x in f.readlines() if x.strip() != '']\n",
        "train_filtred_questions = []\n",
        "for l in lines : \n",
        "  y = l.split(';')\n",
        "  t = (y[0], y[1], y[2])\n",
        "  train_filtred_questions.append(t)'''\n",
        "  \n",
        "annotations = [x for x in anno['annotations']]\n",
        "fq_id, fq, f_im_id = zip(*train_filtred_questions)\n"
      ],
      "execution_count": 0,
      "outputs": []
    },
    {
      "cell_type": "code",
      "metadata": {
        "id": "tkmyuNmlsBEW",
        "colab_type": "code",
        "colab": {}
      },
      "source": [
        "\n",
        "filtered_annotaitons = [x for x in annotations if str(x['image_id']) in f_im_id]"
      ],
      "execution_count": 0,
      "outputs": []
    },
    {
      "cell_type": "code",
      "metadata": {
        "id": "V7HjqiGsw4s4",
        "colab_type": "code",
        "colab": {}
      },
      "source": [
        "with open(train_annotation_save_path, 'w') as f : \n",
        "  json.dump(filtered_annotaitons,f)\n"
      ],
      "execution_count": 0,
      "outputs": []
    },
    {
      "cell_type": "markdown",
      "metadata": {
        "id": "u5kmghjMGH5S",
        "colab_type": "text"
      },
      "source": [
        "## save tuples of filtred questions\n",
        "\n",
        "One line of the saved file is in the format :  question_id,question,image_id\n",
        "\n",
        "\n",
        "\n"
      ]
    },
    {
      "cell_type": "code",
      "metadata": {
        "id": "jSY88n2KETAk",
        "colab_type": "code",
        "colab": {}
      },
      "source": [
        "def save(path, filtred_questions):\n",
        "  f = open(path, 'w')\n",
        "  for i,x in enumerate(filtred_questions):\n",
        "    if i != 0 : \n",
        "      f.write('\\n')\n",
        "    f.write(str(x[0]) +';'+str(x[1]) +';'+str(x[2]))\n",
        "  f.close\n",
        "save(train_save_path,train_filtred_questions )"
      ],
      "execution_count": 0,
      "outputs": []
    },
    {
      "cell_type": "markdown",
      "metadata": {
        "id": "7QPwl6uzHDXv",
        "colab_type": "text"
      },
      "source": [
        "## Downlaod val question"
      ]
    },
    {
      "cell_type": "markdown",
      "metadata": {
        "id": "fjq8YicmJYXE",
        "colab_type": "text"
      },
      "source": [
        "### downlaod the file"
      ]
    },
    {
      "cell_type": "code",
      "metadata": {
        "id": "_0kpFaJFGjxM",
        "colab_type": "code",
        "colab": {}
      },
      "source": [
        "#!wget -P '$val_questions_dir' https://s3.amazonaws.com/cvmlp/vqa/mscoco/vqa/v2_Questions_Val_mscoco.zip "
      ],
      "execution_count": 0,
      "outputs": []
    },
    {
      "cell_type": "markdown",
      "metadata": {
        "id": "eGmRcQH3Jb71",
        "colab_type": "text"
      },
      "source": [
        "### copy from download path to working path"
      ]
    },
    {
      "cell_type": "code",
      "metadata": {
        "id": "Mcc_0dgcITXc",
        "colab_type": "code",
        "colab": {}
      },
      "source": [
        "os.chdir(val_questions_dir)\n",
        "#!unzip v2_Questions_Val_mscoco.zip \n",
        "val_questions_path = os.path.join(val_questions_dir, 'v2_OpenEnded_mscoco_val2014_questions.json')"
      ],
      "execution_count": 0,
      "outputs": []
    },
    {
      "cell_type": "markdown",
      "metadata": {
        "id": "mmfaYdtWJh1Q",
        "colab_type": "text"
      },
      "source": [
        "## Load val questions (tuples)"
      ]
    },
    {
      "cell_type": "code",
      "metadata": {
        "id": "LLUMsblBIurK",
        "colab_type": "code",
        "outputId": "8d3a20d8-cb73-47c9-9155-d1b9f6002bea",
        "colab": {
          "base_uri": "https://localhost:8080/",
          "height": 34
        }
      },
      "source": [
        "f = open(val_questions_path)\n",
        "q = json.load(f)\n",
        "questionsIdsVal = [(question['question_id'], question['question'], question['image_id']) for question in q['questions']]\n",
        "f.close"
      ],
      "execution_count": 0,
      "outputs": [
        {
          "output_type": "execute_result",
          "data": {
            "text/plain": [
              "<function TextIOWrapper.close>"
            ]
          },
          "metadata": {
            "tags": []
          },
          "execution_count": 17
        }
      ]
    },
    {
      "cell_type": "markdown",
      "metadata": {
        "id": "xlTpGGSzJoST",
        "colab_type": "text"
      },
      "source": [
        "## Filter val questions"
      ]
    },
    {
      "cell_type": "code",
      "metadata": {
        "id": "dfGb_oVII8Af",
        "colab_type": "code",
        "colab": {}
      },
      "source": [
        "val_filtred_questions = filterQuestions(questionsIdsVal, treated_key_words)\n",
        "(q_id, q, im) = zip(*val_filtred_questions)\n",
        "val_filtred_questions =get_filtered_images(q_id,questionsIdsVal)\n",
        "val_filtred_questions"
      ],
      "execution_count": 0,
      "outputs": []
    },
    {
      "cell_type": "code",
      "metadata": {
        "id": "y6TzXkZGJux1",
        "colab_type": "code",
        "colab": {}
      },
      "source": [
        "ims = set([x[2] for x in val_filtred_questions])\n",
        "ques = set([x[2] for x in train_filtred_questions])\n",
        "f = open(val_questions_path)\n",
        "q = json.load(f)\n",
        "questionsIdsVal = set([question['question_id'] for question in q['questions'] if question['image_id'] in ims ])\n",
        "f.close\n",
        "len(questionsIds)\n",
        "print(len(ques))"
      ],
      "execution_count": 0,
      "outputs": []
    },
    {
      "cell_type": "code",
      "metadata": {
        "id": "P8S3Ny3iWrxt",
        "colab_type": "code",
        "colab": {}
      },
      "source": [
        "len(val_filtred_questions)"
      ],
      "execution_count": 0,
      "outputs": []
    },
    {
      "cell_type": "code",
      "metadata": {
        "id": "LQ9bMQDaKEhw",
        "colab_type": "code",
        "colab": {}
      },
      "source": [
        "path = val_save_path\n",
        "save(path, val_filtred_questions)"
      ],
      "execution_count": 0,
      "outputs": []
    },
    {
      "cell_type": "markdown",
      "metadata": {
        "id": "R5gsAmXFyVrN",
        "colab_type": "text"
      },
      "source": [
        "### Download annotations"
      ]
    },
    {
      "cell_type": "code",
      "metadata": {
        "id": "wUkLjTmtNeRb",
        "colab_type": "code",
        "colab": {}
      },
      "source": [
        "#!wget -P '$train_answers_dir' \"https://s3.amazonaws.com/cvmlp/vqa/mscoco/vqa/v2_Annotations_Val_mscoco.zip\"\n",
        "os.chdir(val_answers_dir)\n",
        "!unzip v2_Annotations_Val_mscoco.zip"
      ],
      "execution_count": 0,
      "outputs": []
    },
    {
      "cell_type": "code",
      "metadata": {
        "id": "tUqOJrdZzBkw",
        "colab_type": "code",
        "colab": {}
      },
      "source": [
        "train_answers_path = os.path.join(train_answers_dir, 'v2_mscoco_val2014_annotations.json')\n"
      ],
      "execution_count": 0,
      "outputs": []
    },
    {
      "cell_type": "markdown",
      "metadata": {
        "id": "eLz3Kf2qwXnP",
        "colab_type": "text"
      },
      "source": [
        "# Generate full dataset"
      ]
    },
    {
      "cell_type": "code",
      "metadata": {
        "id": "95jH1FxFzaf7",
        "colab_type": "code",
        "colab": {}
      },
      "source": [
        "def get_full_dataset(questions_file, annotation_file, save_file):\n",
        "  with open(train_answers_path) as f :\n",
        "    anno = json.load(f)\n",
        "  with open(questions_file, 'r') as f :\n",
        "    lines= [x.strip() for x in f.readlines() if x.strip() != '']\n",
        "  filtred_questions = []\n",
        "  for l in lines : \n",
        "    y = l.split(';')\n",
        "    t = (y[0], y[1], y[2])\n",
        "    filtred_questions.append(t)\n",
        "  print('filtered questions len {}'.format(len(filtred_questions)))\n",
        "  annotations = anno['annotations']\n",
        "  annotations_map = {}\n",
        "  for a in annotations : \n",
        "    if a['question_id'] in annotations_map : \n",
        "      annotations_map[int(a['question_id'])].append(a)\n",
        "    else : \n",
        "      annotations_map[int(a['question_id'])] = [a]\n",
        "  for k,v in annotations_map.items():\n",
        "    if not len(v) == 1:\n",
        "      print('danger {}'.format(k))\n",
        "  \n",
        "  \n",
        "  print('len group by {} {}'.format(len(annotations_map), len(annotations)))\n",
        "\n",
        "  data = []\n",
        "  for ques in filtred_questions : \n",
        "    if int(ques[0]) in annotations_map : \n",
        "      answers = [x['answer'] for x in annotations_map[int(ques[0])][0]['answers']]\n",
        "      data.append([int(ques[2]), ques[1], ','.join(answers)])\n",
        "  print('len data {}'.format(len(data))) \n",
        "  imgs = [x[0] for x in data]\n",
        "  with open(save_file, 'w') as f : \n",
        "    writer = csv.writer(f)\n",
        "    for d in data : \n",
        "      writer.writerow(d)\n",
        "      \n",
        "                  "
      ],
      "execution_count": 0,
      "outputs": []
    },
    {
      "cell_type": "code",
      "metadata": {
        "id": "HWqkwIOzzliF",
        "colab_type": "code",
        "colab": {}
      },
      "source": [
        "get_full_dataset(train_save_path,train_answers_path, final_train_file)\n",
        "get_full_dataset(val_save_path,val_answers_path, final_val_file)"
      ],
      "execution_count": 0,
      "outputs": []
    }
  ]
}