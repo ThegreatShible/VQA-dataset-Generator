{
 "cells": [
  {
   "cell_type": "markdown",
   "metadata": {
    "colab_type": "text",
    "id": "d7azUKZ1HhiA"
   },
   "source": [
    "# Fusion the datasets\n",
    "The aim of this notebook is to gather all the produced datasets(Only those produced by filtering are implemented here), and then split them into test and train."
   ]
  },
  {
   "cell_type": "markdown",
   "metadata": {
    "colab_type": "text",
    "id": "_QCLRLk_JDUq"
   },
   "source": [
    "# Variables"
   ]
  },
  {
   "cell_type": "code",
   "execution_count": 0,
   "metadata": {
    "colab": {},
    "colab_type": "code",
    "id": "R8r4hoOtJICy"
   },
   "outputs": [],
   "source": [
    "import os\n",
    "import csv\n",
    "#TO Implement   \n",
    "    #mounting drive path, this is optional\n",
    "drive_path = ''\n",
    "# root path as defined in install.ipynb \n",
    "data_root = ''\n",
    "\n",
    "save_root = os.path.join(data_root, 'results/VGQA')\n",
    "save_qas_file = os.path.join(save_root,'QAs.json')\n",
    "filtred_GQA = os.path.join(save_root, 'GQA_filtered.csv')\n",
    "VG_GQA = os.path.join(save_root, 'VG_GQA.csv')\n",
    "VQA_train_file = os.path.join(data_root, 'results/VQA/final_train.csv')\n",
    "VQA_val_file = os.path.join(data_root, 'results/VQA/final_val.csv')\n",
    "\n",
    "final_val_file = os.path.join(data_root, 'results/final_val.csv')\n",
    "final_train_file = os.path.join(data_root, 'results/final_train.csv')\n",
    "\n",
    "TRAIN_RATIO = 0.6 #Train dataset ration between 0 and 1 "
   ]
  },
  {
   "cell_type": "markdown",
   "metadata": {
    "colab_type": "text",
    "id": "ysV2fK8POUh7"
   },
   "source": [
    "## Mounting Drive (Don't do it if you don't use drive)"
   ]
  },
  {
   "cell_type": "code",
   "execution_count": 0,
   "metadata": {
    "colab": {},
    "colab_type": "code",
    "id": "ggvfEnf_OUuS"
   },
   "outputs": [],
   "source": [
    "from google.colab import drive\n",
    "#mounting drive path, this is optional\n",
    "drive_path = ''\n",
    "drive.mount(drive_path)"
   ]
  },
  {
   "cell_type": "markdown",
   "metadata": {
    "colab_type": "text",
    "id": "vJPosHnaJ2cu"
   },
   "source": [
    "# Fusion"
   ]
  },
  {
   "cell_type": "code",
   "execution_count": 0,
   "metadata": {
    "colab": {},
    "colab_type": "code",
    "id": "xd1yoMW_GNoQ"
   },
   "outputs": [],
   "source": [
    "\n",
    "def fusion(list1, list2): \n",
    "  images1 = set([x[0] for x in list1])\n",
    "  first_values = [x for x in list2 if x[0] in images1]\n",
    "  second_values = [x for x in list2 if not x[0] in images1 ]\n",
    "  return (list1 + first_values, second_values)\n",
    "\n",
    "def read_csv(file) : \n",
    "  with open(file, 'r') as f : \n",
    "    reader = csv.reader(f)\n",
    "    data = [x for x in reader]\n",
    "  return data\n",
    "\n",
    "def write_csv(save_file, data): \n",
    "  with open(save_file, 'w') as f : \n",
    "    writer = csv.writer(f)\n",
    "    for d in data :   \n",
    "      writer.writerow(d)"
   ]
  },
  {
   "cell_type": "code",
   "execution_count": 0,
   "metadata": {
    "colab": {},
    "colab_type": "code",
    "id": "JLdEw_UVItMw"
   },
   "outputs": [],
   "source": [
    "def get_VG(file_path): \n",
    "  with open(file_path, 'r') as f:\n",
    "    data = json.load(f)\n",
    "  return [[y['image_id'],x['question'],x['answer']] for y in data for x in y['QAs']]\n",
    "\n",
    "VG = get_VG(save_qas_file)\n",
    "GQA = read_csv(filtred_GQA)\n",
    "VG2 = [[str(x[0]), str(x[1]), str(x[2])] for x in VG]\n",
    "GQA  = [[str(x[0]), str(x[1]), str(x[2])] for x in GQA]\n",
    "data = VG2 + GQA\n",
    "data = [[y.replace('\\x00', '') for y in x] for x in data]\n",
    "\n",
    "with open(VG_GQA, 'w') as f :\n",
    "  writer = csv.writer(f)    \n",
    "  for x in data : \n",
    "    writer.writerow(x)"
   ]
  },
  {
   "cell_type": "code",
   "execution_count": 0,
   "metadata": {
    "colab": {},
    "colab_type": "code",
    "id": "9DrnSQijJXaJ"
   },
   "outputs": [],
   "source": [
    "\n",
    "vgqa = read_csv(VG_GQA)\n",
    "train_vqa = read_csv(VQA_train_file)\n",
    "val_vqa = read_csv(VQA_val_file)\n",
    "new_train, new_vgqa = fusion(train_vqa, vgqa)\n",
    "new_val , new_new_vgqa = fusion (val_vqa, new_vgqa)"
   ]
  },
  {
   "cell_type": "markdown",
   "metadata": {
    "colab_type": "text",
    "id": "T-qs-tYLJ5ja"
   },
   "source": [
    "# Split into train and val"
   ]
  },
  {
   "cell_type": "code",
   "execution_count": 0,
   "metadata": {
    "colab": {},
    "colab_type": "code",
    "id": "cT-WVcZlJ8t-"
   },
   "outputs": [],
   "source": [
    "total = len(new_train) + len(new_val) + len(new_new_vgqa)\n",
    "train_split_ratio = (TRAIN_RATIO* total - len(new_train))/ len(new_new_vgqa)\n",
    "train_length = int(train_split_ratio * len(new_new_vgqa))\n",
    "final_train = new_train + new_new_vgqa[:train_length]\n",
    "final_val = list(new_val) + list(new_new_vgqa)[train_length:]"
   ]
  },
  {
   "cell_type": "code",
   "execution_count": 0,
   "metadata": {
    "colab": {},
    "colab_type": "code",
    "id": "Hoo6K2TBKPBD"
   },
   "outputs": [],
   "source": [
    "write_csv(final_train_file, final_train)\n",
    "write_csv(final_val_file, final_val)"
   ]
  }
 ],
 "metadata": {
  "colab": {
   "name": "Fusion.ipynb",
   "provenance": [],
   "version": "0.3.2"
  },
  "kernelspec": {
   "display_name": "Python 3",
   "language": "python",
   "name": "python3"
  },
  "language_info": {
   "codemirror_mode": {
    "name": "ipython",
    "version": 3
   },
   "file_extension": ".py",
   "mimetype": "text/x-python",
   "name": "python",
   "nbconvert_exporter": "python",
   "pygments_lexer": "ipython3",
   "version": "3.7.3"
  }
 },
 "nbformat": 4,
 "nbformat_minor": 1
}
