{
 "cells": [
  {
   "cell_type": "markdown",
   "metadata": {
    "colab_type": "text",
    "id": "d0PODRd38MQR"
   },
   "source": [
    "# Filtering questions from VQA dataset\n",
    "This notebook aims to filter questions from the VQA dataset corresponding to a specific domain. This is done by domain related keyword search on questions. The keywords are provided in a text file."
   ]
  },
  {
   "cell_type": "markdown",
   "metadata": {
    "colab_type": "text",
    "id": "8duxm7uZ8-g1"
   },
   "source": [
    "## Variables\n",
    "This section contains the variable used in this notebook, the variables must change to an environment to another so that the program can run."
   ]
  },
  {
   "cell_type": "code",
   "execution_count": 0,
   "metadata": {
    "colab": {},
    "colab_type": "code",
    "id": "tszZPq_P9MRP"
   },
   "outputs": [],
   "source": [
    "#this variable represents the path to the imported drive in the notebook, if you don't import drive, ignore this variable \n",
    "drive_home = '/content/gdrive'\n",
    "\n",
    "#path representing directory of train questions from VQA dataset \n",
    "train_questions_dir = '/content/gdrive/My Drive/Colab'\n",
    "#path to the file containing the keywords to filter the questions\n",
    "key_words_path = '/content/gdrive/My Drive/Colab/treated_indoors.txt'\n",
    "#path_where to save the filtered tuples (questions ids , questions and images ids) of train questions\n",
    "train_save_path = '/content/gdrive/My Drive/Colab/results/VQA/train_VQA_filteredImages.txt'\n",
    "train_annotation_save_path = '/content/gdrive/My Drive/Colab/results/VQA/annotations.json'\n",
    "#train_answers_dir is the directory where to put train answers\n",
    "train_answers_dir = '/content/gdrive/My Drive/Colab'\n",
    "#path representing the place of questions from VQA dataset (copied from val_download_path and pasted on this path)\n",
    "val_questions_dir = '/content/gdrive/My Drive/Colab'\n",
    "#path_where to save the filtered tuples (questions ids , questions and images ids) of val questions\n",
    "val_save_path = '/content/gdrive/My Drive/Colab/results/VQA/val_VQA_filteredImages.txt'\n",
    "val_annotation_save_path = '/content/gdrive/My Drive/Colab/results/VQA/val_annotations.json'\n",
    "val_answers_dir =  '/content/gdrive/My Drive/Colab'\n",
    "final_val_file = '/content/gdrive/My Drive/Colab/results/VQA/final_val.csv'\n",
    "final_train_file = '/content/gdrive/My Drive/Colab/results/VQA/final_train.csv'"
   ]
  },
  {
   "cell_type": "markdown",
   "metadata": {
    "colab_type": "text",
    "id": "zOyp_F9V83cU"
   },
   "source": [
    "## Imports "
   ]
  },
  {
   "cell_type": "code",
   "execution_count": 0,
   "metadata": {
    "colab": {},
    "colab_type": "code",
    "id": "6a7pKBYUAZ3x"
   },
   "outputs": [],
   "source": [
    "import os\n",
    "#remove if you don't use drive\n",
    "from google.colab import drive\n",
    "import shutil\n",
    "import json\n",
    "from itertools import groupby\n",
    "import csv"
   ]
  },
  {
   "cell_type": "markdown",
   "metadata": {
    "colab_type": "text",
    "id": "g3XHzD0iBrW_"
   },
   "source": [
    "## Mount drive (remove line if you don't) and download train questions"
   ]
  },
  {
   "cell_type": "markdown",
   "metadata": {
    "colab_type": "text",
    "id": "TS0R7w9eB19w"
   },
   "source": [
    "### mount drive and import train questions"
   ]
  },
  {
   "cell_type": "code",
   "execution_count": 0,
   "metadata": {
    "colab": {},
    "colab_type": "code",
    "id": "glhBEspUqXye"
   },
   "outputs": [],
   "source": [
    "#remove if you don't use drive\n",
    "drive.mount(drive_home)\n",
    "#! wget -P '$train_questions_dir' https://s3.amazonaws.com/cvmlp/vqa/mscoco/vqa/v2_Questions_Train_mscoco.zip\n",
    "os.chdir(train_questions_dir)"
   ]
  },
  {
   "cell_type": "markdown",
   "metadata": {
    "colab_type": "text",
    "id": "RfxN6sszB9lJ"
   },
   "source": [
    "### unzip questions"
   ]
  },
  {
   "cell_type": "code",
   "execution_count": 0,
   "metadata": {
    "colab": {},
    "colab_type": "code",
    "id": "xQNci4hcrDzc"
   },
   "outputs": [],
   "source": [
    "#!unzip -P '$train_questions_dir' v2_Questions_Train_mscoco.zip"
   ]
  },
  {
   "cell_type": "markdown",
   "metadata": {
    "colab_type": "text",
    "id": "l7qGrRvtCclR"
   },
   "source": [
    "## Load train questions\n",
    "The questions file is a bunch of lines containing the question id, the question and the image id related to the question in the VQA dataset."
   ]
  },
  {
   "cell_type": "code",
   "execution_count": 0,
   "metadata": {
    "colab": {},
    "colab_type": "code",
    "id": "xnbzOO-bsqje"
   },
   "outputs": [],
   "source": [
    "train_questions_path = os.path.join(train_questions_dir, 'v2_OpenEnded_mscoco_train2014_questions.json')\n",
    "f = open(train_questions_path)\n",
    "q = json.load(f)\n",
    "questionsIds = [(question['question_id'], question['question'], question['image_id']) for question in q['questions']]\n",
    "f.close\n",
    "questionsIds[:10]\n"
   ]
  },
  {
   "cell_type": "code",
   "execution_count": 0,
   "metadata": {
    "colab": {},
    "colab_type": "code",
    "id": "9LIjtXHmub_i"
   },
   "outputs": [],
   "source": [
    "questions = [x[1] for x in questionsIds]\n",
    "questions[:10]"
   ]
  },
  {
   "cell_type": "markdown",
   "metadata": {
    "colab_type": "text",
    "id": "Tu5WytK_Czrv"
   },
   "source": [
    "## filter questions\n",
    "Filter the questions by keywords, we get from this methods only the questions containing at least on of the keywords"
   ]
  },
  {
   "cell_type": "markdown",
   "metadata": {
    "colab_type": "text",
    "id": "rgkTpIQoEO6j"
   },
   "source": [
    "### filterQuestions function to filter questions by keywords"
   ]
  },
  {
   "cell_type": "code",
   "execution_count": 0,
   "metadata": {
    "colab": {},
    "colab_type": "code",
    "id": "MOp7lUkFuoqK"
   },
   "outputs": [],
   "source": [
    "# filter questions and get the ones containing at least on keyword from key_words\n",
    "def filterQuestions(questions, key_words):\n",
    "  def contains(question, key_words):\n",
    "    if not key_words:\n",
    "      return False\n",
    "    else :\n",
    "      return (key_words[0] in question) or contains(question, key_words[1:])\n",
    "\n",
    "  return [x for x in questions if contains(x[1], key_words)]\n",
    "\n"
   ]
  },
  {
   "cell_type": "markdown",
   "metadata": {
    "colab_type": "text",
    "id": "XyHDQkUy7ssN"
   },
   "source": [
    "### get images ids with questions that have at least one questions in filtered questions\n",
    "This is to catch all questions that have relation to indoor, with filterQuestions we got all questions containing keywords, that means that images filtered are indoor images (most of them) and that the other questions that don't have keywords in that images could also be indoor questions."
   ]
  },
  {
   "cell_type": "code",
   "execution_count": 0,
   "metadata": {
    "colab": {},
    "colab_type": "code",
    "id": "DyV22kLp7s4p"
   },
   "outputs": [],
   "source": [
    "def get_filtered_images(questions_ids, questions_image):\n",
    "  return [x for x in questions_image if x[0] in questions_ids]\n"
   ]
  },
  {
   "cell_type": "markdown",
   "metadata": {
    "colab_type": "text",
    "id": "8hwpR_L8EHtr"
   },
   "source": [
    "### treat keywords\n",
    "Treating keywods such as making them lowercase, removing extra-space ... and the loading them\n",
    "\n",
    "\n",
    "\n"
   ]
  },
  {
   "cell_type": "code",
   "execution_count": 0,
   "metadata": {
    "colab": {},
    "colab_type": "code",
    "id": "o0ZHBt4cw3bx"
   },
   "outputs": [],
   "source": [
    "f = open(key_words_path,'r')\n",
    "key_words = f.readlines()\n",
    "f.close\n",
    "treated_key_words = [x.strip().lower() for x in key_words if x.strip() != ''] \n",
    "  \n",
    "treated_key_words"
   ]
  },
  {
   "cell_type": "markdown",
   "metadata": {
    "colab_type": "text",
    "id": "X_8uFCgJE6x4"
   },
   "source": [
    "### filter questions \n",
    "The result of applying the filter to questions is a tuple containing (question_id, question, image_id) where question contains of the keywords in key_words"
   ]
  },
  {
   "cell_type": "code",
   "execution_count": 0,
   "metadata": {
    "colab": {},
    "colab_type": "code",
    "id": "PATNFM5h3TQa"
   },
   "outputs": [],
   "source": [
    "train_filtred_questions = filterQuestions(questionsIds, treated_key_words)\n",
    "t = train_filtred_questions\n",
    "(q_id, q, im) = zip(*train_filtred_questions)\n",
    "train_filtred_questions =get_filtered_images(q_id,questionsIds)\n",
    "train_filtred_questions"
   ]
  },
  {
   "cell_type": "code",
   "execution_count": 0,
   "metadata": {
    "colab": {},
    "colab_type": "code",
    "id": "TY9XovW1HZV6"
   },
   "outputs": [],
   "source": [
    "ques = set([x[2] for x in train_filtred_questions])\n",
    "train_questions_path = os.path.join(train_questions_dir, 'v2_OpenEnded_mscoco_train2014_questions.json')\n",
    "with open(train_questions_path) as f :\n",
    "  q = json.load(f)\n",
    "questionsIds = [(question['question_id'], question['question'], question['image_id']) for question in q['questions'] if question['image_id'] in ques]\n",
    "len(questionsIds)"
   ]
  },
  {
   "cell_type": "code",
   "execution_count": 0,
   "metadata": {
    "colab": {},
    "colab_type": "code",
    "id": "nITzPHyA6YI3"
   },
   "outputs": [],
   "source": [
    "len(list(set([x[2] for x in train_filtred_questions])))"
   ]
  },
  {
   "cell_type": "markdown",
   "metadata": {
    "colab_type": "text",
    "id": "cJDM6gEOWCA4"
   },
   "source": [
    "### download annotations"
   ]
  },
  {
   "cell_type": "code",
   "execution_count": 0,
   "metadata": {
    "colab": {},
    "colab_type": "code",
    "id": "gwW2VGZLeHdY"
   },
   "outputs": [],
   "source": [
    "!wget -P '$train_answers_dir' \"https://s3.amazonaws.com/cvmlp/vqa/mscoco/vqa/v2_Annotations_Train_mscoco.zip\"\n",
    "os.chdir(train_answers_dir)\n",
    "!unzip v2_Annotations_Train_mscoco.zip"
   ]
  },
  {
   "cell_type": "code",
   "execution_count": 0,
   "metadata": {
    "colab": {},
    "colab_type": "code",
    "id": "JA4zGw2JfL31"
   },
   "outputs": [],
   "source": [
    "train_answers_path = os.path.join(train_answers_dir, 'v2_mscoco_train2014_annotations.json')\n",
    "with open(train_answers_path) as f :\n",
    "  anno = json.load(f)\n"
   ]
  },
  {
   "cell_type": "code",
   "execution_count": 0,
   "metadata": {
    "colab": {},
    "colab_type": "code",
    "id": "GjUJ1bC4kqWf"
   },
   "outputs": [],
   "source": [
    "'''with open(train_save_path, 'r') as f :\n",
    "  lines= [x.strip() for x in f.readlines() if x.strip() != '']\n",
    "train_filtred_questions = []\n",
    "for l in lines : \n",
    "  y = l.split(';')\n",
    "  t = (y[0], y[1], y[2])\n",
    "  train_filtred_questions.append(t)'''\n",
    "  \n",
    "annotations = [x for x in anno['annotations']]\n",
    "fq_id, fq, f_im_id = zip(*train_filtred_questions)\n"
   ]
  },
  {
   "cell_type": "code",
   "execution_count": 0,
   "metadata": {
    "colab": {},
    "colab_type": "code",
    "id": "tkmyuNmlsBEW"
   },
   "outputs": [],
   "source": [
    "\n",
    "filtered_annotaitons = [x for x in annotations if str(x['image_id']) in f_im_id]"
   ]
  },
  {
   "cell_type": "code",
   "execution_count": 0,
   "metadata": {
    "colab": {},
    "colab_type": "code",
    "id": "V7HjqiGsw4s4"
   },
   "outputs": [],
   "source": [
    "with open(train_annotation_save_path, 'w') as f : \n",
    "  json.dump(filtered_annotaitons,f)\n"
   ]
  },
  {
   "cell_type": "markdown",
   "metadata": {
    "colab_type": "text",
    "id": "u5kmghjMGH5S"
   },
   "source": [
    "## save tuples of filtred questions\n",
    "\n",
    "One line of the saved file is in the format :  question_id,question,image_id\n",
    "\n",
    "\n",
    "\n"
   ]
  },
  {
   "cell_type": "code",
   "execution_count": 0,
   "metadata": {
    "colab": {},
    "colab_type": "code",
    "id": "jSY88n2KETAk"
   },
   "outputs": [],
   "source": [
    "def save(path, filtred_questions):\n",
    "  f = open(path, 'w')\n",
    "  for i,x in enumerate(filtred_questions):\n",
    "    if i != 0 : \n",
    "      f.write('\\n')\n",
    "    f.write(str(x[0]) +';'+str(x[1]) +';'+str(x[2]))\n",
    "  f.close\n",
    "save(train_save_path,train_filtred_questions )"
   ]
  },
  {
   "cell_type": "markdown",
   "metadata": {
    "colab_type": "text",
    "id": "7QPwl6uzHDXv"
   },
   "source": [
    "## Downlaod val question"
   ]
  },
  {
   "cell_type": "markdown",
   "metadata": {
    "colab_type": "text",
    "id": "fjq8YicmJYXE"
   },
   "source": [
    "### downlaod the file"
   ]
  },
  {
   "cell_type": "code",
   "execution_count": 0,
   "metadata": {
    "colab": {},
    "colab_type": "code",
    "id": "_0kpFaJFGjxM"
   },
   "outputs": [],
   "source": [
    "#!wget -P '$val_questions_dir' https://s3.amazonaws.com/cvmlp/vqa/mscoco/vqa/v2_Questions_Val_mscoco.zip "
   ]
  },
  {
   "cell_type": "markdown",
   "metadata": {
    "colab_type": "text",
    "id": "eGmRcQH3Jb71"
   },
   "source": [
    "### copy from download path to working path"
   ]
  },
  {
   "cell_type": "code",
   "execution_count": 0,
   "metadata": {
    "colab": {},
    "colab_type": "code",
    "id": "Mcc_0dgcITXc"
   },
   "outputs": [],
   "source": [
    "os.chdir(val_questions_dir)\n",
    "#!unzip v2_Questions_Val_mscoco.zip \n",
    "val_questions_path = os.path.join(val_questions_dir, 'v2_OpenEnded_mscoco_val2014_questions.json')"
   ]
  },
  {
   "cell_type": "markdown",
   "metadata": {
    "colab_type": "text",
    "id": "mmfaYdtWJh1Q"
   },
   "source": [
    "## Load val questions (tuples)"
   ]
  },
  {
   "cell_type": "code",
   "execution_count": 0,
   "metadata": {
    "colab": {
     "base_uri": "https://localhost:8080/",
     "height": 34
    },
    "colab_type": "code",
    "id": "LLUMsblBIurK",
    "outputId": "8d3a20d8-cb73-47c9-9155-d1b9f6002bea"
   },
   "outputs": [
    {
     "data": {
      "text/plain": [
       "<function TextIOWrapper.close>"
      ]
     },
     "execution_count": 17,
     "metadata": {
      "tags": []
     },
     "output_type": "execute_result"
    }
   ],
   "source": [
    "f = open(val_questions_path)\n",
    "q = json.load(f)\n",
    "questionsIdsVal = [(question['question_id'], question['question'], question['image_id']) for question in q['questions']]\n",
    "f.close"
   ]
  },
  {
   "cell_type": "markdown",
   "metadata": {
    "colab_type": "text",
    "id": "xlTpGGSzJoST"
   },
   "source": [
    "## Filter val questions"
   ]
  },
  {
   "cell_type": "code",
   "execution_count": 0,
   "metadata": {
    "colab": {},
    "colab_type": "code",
    "id": "dfGb_oVII8Af"
   },
   "outputs": [],
   "source": [
    "val_filtred_questions = filterQuestions(questionsIdsVal, treated_key_words)\n",
    "(q_id, q, im) = zip(*val_filtred_questions)\n",
    "val_filtred_questions =get_filtered_images(q_id,questionsIdsVal)\n",
    "val_filtred_questions"
   ]
  },
  {
   "cell_type": "code",
   "execution_count": 0,
   "metadata": {
    "colab": {},
    "colab_type": "code",
    "id": "y6TzXkZGJux1"
   },
   "outputs": [],
   "source": [
    "ims = set([x[2] for x in val_filtred_questions])\n",
    "ques = set([x[2] for x in train_filtred_questions])\n",
    "f = open(val_questions_path)\n",
    "q = json.load(f)\n",
    "questionsIdsVal = set([question['question_id'] for question in q['questions'] if question['image_id'] in ims ])\n",
    "f.close\n",
    "len(questionsIds)\n",
    "print(len(ques))"
   ]
  },
  {
   "cell_type": "code",
   "execution_count": 0,
   "metadata": {
    "colab": {},
    "colab_type": "code",
    "id": "P8S3Ny3iWrxt"
   },
   "outputs": [],
   "source": [
    "len(val_filtred_questions)"
   ]
  },
  {
   "cell_type": "code",
   "execution_count": 0,
   "metadata": {
    "colab": {},
    "colab_type": "code",
    "id": "LQ9bMQDaKEhw"
   },
   "outputs": [],
   "source": [
    "path = val_save_path\n",
    "save(path, val_filtred_questions)"
   ]
  },
  {
   "cell_type": "markdown",
   "metadata": {
    "colab_type": "text",
    "id": "R5gsAmXFyVrN"
   },
   "source": [
    "### Download annotations"
   ]
  },
  {
   "cell_type": "code",
   "execution_count": 0,
   "metadata": {
    "colab": {},
    "colab_type": "code",
    "id": "wUkLjTmtNeRb"
   },
   "outputs": [],
   "source": [
    "#!wget -P '$train_answers_dir' \"https://s3.amazonaws.com/cvmlp/vqa/mscoco/vqa/v2_Annotations_Val_mscoco.zip\"\n",
    "os.chdir(val_answers_dir)\n",
    "!unzip v2_Annotations_Val_mscoco.zip"
   ]
  },
  {
   "cell_type": "code",
   "execution_count": 0,
   "metadata": {
    "colab": {},
    "colab_type": "code",
    "id": "tUqOJrdZzBkw"
   },
   "outputs": [],
   "source": [
    "train_answers_path = os.path.join(train_answers_dir, 'v2_mscoco_val2014_annotations.json')\n"
   ]
  },
  {
   "cell_type": "markdown",
   "metadata": {
    "colab_type": "text",
    "id": "eLz3Kf2qwXnP"
   },
   "source": [
    "# Generate full dataset"
   ]
  },
  {
   "cell_type": "code",
   "execution_count": 0,
   "metadata": {
    "colab": {},
    "colab_type": "code",
    "id": "95jH1FxFzaf7"
   },
   "outputs": [],
   "source": [
    "def get_full_dataset(questions_file, annotation_file, save_file):\n",
    "  with open(train_answers_path) as f :\n",
    "    anno = json.load(f)\n",
    "  with open(questions_file, 'r') as f :\n",
    "    lines= [x.strip() for x in f.readlines() if x.strip() != '']\n",
    "  filtred_questions = []\n",
    "  for l in lines : \n",
    "    y = l.split(';')\n",
    "    t = (y[0], y[1], y[2])\n",
    "    filtred_questions.append(t)\n",
    "  print('filtered questions len {}'.format(len(filtred_questions)))\n",
    "  annotations = anno['annotations']\n",
    "  annotations_map = {}\n",
    "  for a in annotations : \n",
    "    if a['question_id'] in annotations_map : \n",
    "      annotations_map[int(a['question_id'])].append(a)\n",
    "    else : \n",
    "      annotations_map[int(a['question_id'])] = [a]\n",
    "  for k,v in annotations_map.items():\n",
    "    if not len(v) == 1:\n",
    "      print('danger {}'.format(k))\n",
    "  \n",
    "  \n",
    "  print('len group by {} {}'.format(len(annotations_map), len(annotations)))\n",
    "\n",
    "  data = []\n",
    "  for ques in filtred_questions : \n",
    "    if int(ques[0]) in annotations_map : \n",
    "      answers = [x['answer'] for x in annotations_map[int(ques[0])][0]['answers']]\n",
    "      data.append([int(ques[2]), ques[1], ','.join(answers)])\n",
    "  print('len data {}'.format(len(data))) \n",
    "  imgs = [x[0] for x in data]\n",
    "  with open(save_file, 'w') as f : \n",
    "    writer = csv.writer(f)\n",
    "    for d in data : \n",
    "      writer.writerow(d)\n",
    "      \n",
    "                  "
   ]
  },
  {
   "cell_type": "code",
   "execution_count": 0,
   "metadata": {
    "colab": {},
    "colab_type": "code",
    "id": "HWqkwIOzzliF"
   },
   "outputs": [],
   "source": [
    "get_full_dataset(train_save_path,train_answers_path, final_train_file)\n",
    "get_full_dataset(val_save_path,val_answers_path, final_val_file)"
   ]
  }
 ],
 "metadata": {
  "colab": {
   "collapsed_sections": [],
   "name": "VQA2 Dataset",
   "provenance": [],
   "toc_visible": true,
   "version": "0.3.2"
  },
  "kernelspec": {
   "display_name": "Python 3",
   "language": "python",
   "name": "python3"
  },
  "language_info": {
   "codemirror_mode": {
    "name": "ipython",
    "version": 3
   },
   "file_extension": ".py",
   "mimetype": "text/x-python",
   "name": "python",
   "nbconvert_exporter": "python",
   "pygments_lexer": "ipython3",
   "version": "3.7.3"
  }
 },
 "nbformat": 4,
 "nbformat_minor": 1
}
