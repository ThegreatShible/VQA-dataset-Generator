{
 "cells": [
  {
   "cell_type": "markdown",
   "metadata": {},
   "source": [
    "# Why this notebook ?\n",
    "\n",
    "This notebook aims to prepare the environment for the preprocessing and the model  notebook by preparing a file hierarchy and installing required files and data."
   ]
  },
  {
   "cell_type": "markdown",
   "metadata": {},
   "source": [
    "# Variables"
   ]
  },
  {
   "cell_type": "code",
   "execution_count": null,
   "metadata": {},
   "outputs": [],
   "source": [
    "import urllib.request\n",
    "import numpy\n",
    "import bs4\n",
    "import urllib\n",
    "import os\n",
    "\n",
    "#The root directory of all data\n",
    "data_root = ''"
   ]
  },
  {
   "cell_type": "markdown",
   "metadata": {},
   "source": [
    "# Data creation from image"
   ]
  },
  {
   "cell_type": "markdown",
   "metadata": {},
   "source": [
    "## Download NYU Depth V2 dataset"
   ]
  },
  {
   "cell_type": "code",
   "execution_count": null,
   "metadata": {},
   "outputs": [],
   "source": [
    "NYU_url= 'https://cs.nyu.edu/~silberman/datasets/nyu_depth_v2.html'\n",
    "\n",
    "def find_urls(url) :\n",
    "    data = urllib.request.urlopen(url).read()\n",
    "    soup = bs4.BeautifulSoup(data)\n",
    "    soup = soup.select('table a')\n",
    "    soup = [x.get('href') for x in soup if x.get('href')[-3:] == 'zip']\n",
    "    return soup\n",
    "\n",
    "urls = find_urls(NYU_url)\n"
   ]
  },
  {
   "cell_type": "code",
   "execution_count": null,
   "metadata": {},
   "outputs": [],
   "source": [
    "os.chdir(data_root)\n",
    "!mkdir NUY\n",
    "os.chdir('NUY')\n",
    "NUY_root_dir = os.path.join(data_root, 'NUY')\n",
    "for url in urls : \n",
    "    !wget '$url'\n",
    "NUY_directories = os.listdir(NUY_root_dir)\n",
    "for d in NUY_directories: \n",
    "    !unzip '$d'\n",
    "    !rm -rf '$d'\n",
    "\n",
    "\n",
    "\n"
   ]
  },
  {
   "cell_type": "markdown",
   "metadata": {},
   "source": [
    "# Visual Genome,GQA and VQA data"
   ]
  },
  {
   "cell_type": "code",
   "execution_count": null,
   "metadata": {},
   "outputs": [],
   "source": [
    "\n",
    "#Visual Genome\n",
    "os.chdir(data_root)\n",
    "!mkdir VG\n",
    "os.chdir('VG')\n",
    "\n",
    "    #Visual Genome objects\n",
    "!wget http://visualgenome.org/static/data/dataset/objects.json.zip\n",
    "!unzip objects.json.zip\n",
    "\n",
    "    #Visual Genome questions answers\n",
    "!wget http://visualgenome.org/static/data/dataset/question_answers.json.zip\n",
    "!unzip question_answers.json.zip\n",
    "\n",
    "\n",
    "# GQA questions answers\n",
    "os.chdir(data_root)\n",
    "!mkdir GQA\n",
    "os.chdir('GQA')\n",
    "!wget \"https://s3-us-west-1.amazonaws.com/gqa/questions.zip\"\n",
    "!unzip questions.zip\n",
    "\n",
    "\n",
    "#VQA dataset \n",
    "os.chdir(data_root)\n",
    "!mkdir VQA\n",
    "os.chdir('VQA')\n",
    "\n",
    "    #train questions and annotations\n",
    "!wget   'https://s3.amazonaws.com/cvmlp/vqa/mscoco/vqa/v2_Questions_Train_mscoco.zip'\n",
    "!unzip v2_Questions_Train_mscoco.zip\n",
    "\n",
    "!wget   'https://s3.amazonaws.com/cvmlp/vqa/mscoco/vqa/v2_Annotations_Train_mscoco.zip'\n",
    "!unzip v2_Annotations_Train_mscoco.zip\n",
    "\n",
    "    #val questions and annotations\n",
    "!wget 'https://s3.amazonaws.com/cvmlp/vqa/mscoco/vqa/v2_Questions_Val_mscoco.zip'\n",
    "!unzip v2_Questions_Val_mscoco.zip\n",
    "!wget \"https://s3.amazonaws.com/cvmlp/vqa/mscoco/vqa/v2_Annotations_Val_mscoco.zip\"\n",
    "!unzip v2_Annotations_Val_mscoco.zip\n",
    "\n",
    "\n",
    "\n"
   ]
  },
  {
   "cell_type": "markdown",
   "metadata": {},
   "source": [
    "# Key words"
   ]
  },
  {
   "cell_type": "code",
   "execution_count": 14,
   "metadata": {},
   "outputs": [
    {
     "name": "stdout",
     "output_type": "stream",
     "text": [
      "--2019-07-26 00:47:42--  https://drive.google.com/open?id=1-BEwV29KQEwicidJktE-JxmToTvolpeg\n",
      "Resolving drive.google.com (drive.google.com)... 172.217.18.238, 2a00:1450:4006:802::200e\n",
      "Connecting to drive.google.com (drive.google.com)|172.217.18.238|:443... connected.\n",
      "HTTP request sent, awaiting response... 307 OK\n",
      "Location: https://drive.google.com/file/d/1-BEwV29KQEwicidJktE-JxmToTvolpeg/view?usp=drive_open [following]\n",
      "--2019-07-26 00:47:43--  https://drive.google.com/file/d/1-BEwV29KQEwicidJktE-JxmToTvolpeg/view?usp=drive_open\n",
      "Reusing existing connection to drive.google.com:443.\n",
      "HTTP request sent, awaiting response... 200 OK\n",
      "Length: unspecified [text/html]\n",
      "Saving to: 'open?id=1-BEwV29KQEwicidJktE-JxmToTvolpeg'\n",
      "\n",
      "open?id=1-BEwV29KQE     [ <=>                ] 120.71K  --.-KB/s    in 0.1s    \n",
      "\n",
      "2019-07-26 00:47:43 (828 KB/s) - 'open?id=1-BEwV29KQEwicidJktE-JxmToTvolpeg' saved [123611]\n",
      "\n"
     ]
    }
   ],
   "source": [
    "import requests\n",
    "\n",
    "def download_file_from_google_drive(id, destination):\n",
    "    URL = \"https://docs.google.com/uc?export=download\"\n",
    "\n",
    "    session = requests.Session()\n",
    "\n",
    "    response = session.get(URL, params = { 'id' : id }, stream = True)\n",
    "    token = get_confirm_token(response)\n",
    "\n",
    "    if token:\n",
    "        params = { 'id' : id, 'confirm' : token }\n",
    "        response = session.get(URL, params = params, stream = True)\n",
    "\n",
    "    save_response_content(response, destination)  \n",
    "!wget https://drive.google.com/open?id=1-BEwV29KQEwicidJktE-JxmToTvolpeg"
   ]
  },
  {
   "cell_type": "markdown",
   "metadata": {},
   "source": [
    "# Results"
   ]
  },
  {
   "cell_type": "code",
   "execution_count": null,
   "metadata": {},
   "outputs": [],
   "source": [
    "!mkdir results\n",
    "!os.chdir('results')\n",
    "!mkdir VQA\n",
    "!mkdir VGQA\n",
    "!mkdir NUY"
   ]
  }
 ],
 "metadata": {
  "kernelspec": {
   "display_name": "Python 3",
   "language": "python",
   "name": "python3"
  },
  "language_info": {
   "codemirror_mode": {
    "name": "ipython",
    "version": 3
   },
   "file_extension": ".py",
   "mimetype": "text/x-python",
   "name": "python",
   "nbconvert_exporter": "python",
   "pygments_lexer": "ipython3",
   "version": "3.6.8"
  }
 },
 "nbformat": 4,
 "nbformat_minor": 2
}
